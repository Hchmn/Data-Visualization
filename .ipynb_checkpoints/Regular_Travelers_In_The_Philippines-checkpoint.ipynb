{
 "cells": [
  {
   "cell_type": "code",
   "execution_count": 1,
   "metadata": {},
   "outputs": [],
   "source": [
    "import pandas as pd\n",
    "import matplotlib.pyplot as plt\n",
    "import numpy as np"
   ]
  },
  {
   "cell_type": "code",
   "execution_count": 3,
   "metadata": {},
   "outputs": [],
   "source": [
    "dataset = pd.read_csv('Datasets/List of Regular Travelers in the Philippines.csv', delimiter=',')"
   ]
  },
  {
   "cell_type": "code",
   "execution_count": 4,
   "metadata": {},
   "outputs": [
    {
     "data": {
      "text/html": [
       "<div>\n",
       "<style scoped>\n",
       "    .dataframe tbody tr th:only-of-type {\n",
       "        vertical-align: middle;\n",
       "    }\n",
       "\n",
       "    .dataframe tbody tr th {\n",
       "        vertical-align: top;\n",
       "    }\n",
       "\n",
       "    .dataframe thead th {\n",
       "        text-align: right;\n",
       "    }\n",
       "</style>\n",
       "<table border=\"1\" class=\"dataframe\">\n",
       "  <thead>\n",
       "    <tr style=\"text-align: right;\">\n",
       "      <th></th>\n",
       "      <th>region</th>\n",
       "      <th>province_or_city</th>\n",
       "      <th>foreign_travelers</th>\n",
       "      <th>overseas_filipino</th>\n",
       "      <th>domestic_travelers</th>\n",
       "      <th>total_2012</th>\n",
       "    </tr>\n",
       "  </thead>\n",
       "  <tbody>\n",
       "    <tr>\n",
       "      <th>0</th>\n",
       "      <td>NCR (National Capital Region)</td>\n",
       "      <td>NCR (National Capital Region)</td>\n",
       "      <td>1513402</td>\n",
       "      <td>20048</td>\n",
       "      <td>909212</td>\n",
       "      <td>2442662</td>\n",
       "    </tr>\n",
       "    <tr>\n",
       "      <th>1</th>\n",
       "      <td>NCR (National Capital Region)</td>\n",
       "      <td>Caloocan City</td>\n",
       "      <td>-</td>\n",
       "      <td>-</td>\n",
       "      <td>-</td>\n",
       "      <td>0</td>\n",
       "    </tr>\n",
       "    <tr>\n",
       "      <th>2</th>\n",
       "      <td>NCR (National Capital Region)</td>\n",
       "      <td>Las Pinas City</td>\n",
       "      <td>-</td>\n",
       "      <td>-</td>\n",
       "      <td>-</td>\n",
       "      <td>0</td>\n",
       "    </tr>\n",
       "    <tr>\n",
       "      <th>3</th>\n",
       "      <td>NCR (National Capital Region)</td>\n",
       "      <td>Makati City</td>\n",
       "      <td>-</td>\n",
       "      <td>-</td>\n",
       "      <td>-</td>\n",
       "      <td>0</td>\n",
       "    </tr>\n",
       "    <tr>\n",
       "      <th>4</th>\n",
       "      <td>NCR (National Capital Region)</td>\n",
       "      <td>Malabon City</td>\n",
       "      <td>-</td>\n",
       "      <td>-</td>\n",
       "      <td>-</td>\n",
       "      <td>0</td>\n",
       "    </tr>\n",
       "    <tr>\n",
       "      <th>...</th>\n",
       "      <td>...</td>\n",
       "      <td>...</td>\n",
       "      <td>...</td>\n",
       "      <td>...</td>\n",
       "      <td>...</td>\n",
       "      <td>...</td>\n",
       "    </tr>\n",
       "    <tr>\n",
       "      <th>338</th>\n",
       "      <td>DISTRIBUTION OF REGIONAL TRAVELLERS IN THE PHI...</td>\n",
       "      <td>NaN</td>\n",
       "      <td>NaN</td>\n",
       "      <td>NaN</td>\n",
       "      <td>NaN</td>\n",
       "      <td>NaN</td>\n",
       "    </tr>\n",
       "    <tr>\n",
       "      <th>339</th>\n",
       "      <td>January-December 2012</td>\n",
       "      <td>NaN</td>\n",
       "      <td>NaN</td>\n",
       "      <td>NaN</td>\n",
       "      <td>NaN</td>\n",
       "      <td>NaN</td>\n",
       "    </tr>\n",
       "    <tr>\n",
       "      <th>340</th>\n",
       "      <td>Source of Data:  Accommodation Establishments ...</td>\n",
       "      <td>NaN</td>\n",
       "      <td>NaN</td>\n",
       "      <td>NaN</td>\n",
       "      <td>NaN</td>\n",
       "      <td>NaN</td>\n",
       "    </tr>\n",
       "    <tr>\n",
       "      <th>341</th>\n",
       "      <td>Prepared by:  Tourism Research and Statistics ...</td>\n",
       "      <td>NaN</td>\n",
       "      <td>NaN</td>\n",
       "      <td>NaN</td>\n",
       "      <td>NaN</td>\n",
       "      <td>NaN</td>\n",
       "    </tr>\n",
       "    <tr>\n",
       "      <th>342</th>\n",
       "      <td>As of 7 August 2013</td>\n",
       "      <td>NaN</td>\n",
       "      <td>NaN</td>\n",
       "      <td>NaN</td>\n",
       "      <td>NaN</td>\n",
       "      <td>NaN</td>\n",
       "    </tr>\n",
       "  </tbody>\n",
       "</table>\n",
       "<p>343 rows × 6 columns</p>\n",
       "</div>"
      ],
      "text/plain": [
       "                                                region  \\\n",
       "0                        NCR (National Capital Region)   \n",
       "1                        NCR (National Capital Region)   \n",
       "2                        NCR (National Capital Region)   \n",
       "3                        NCR (National Capital Region)   \n",
       "4                        NCR (National Capital Region)   \n",
       "..                                                 ...   \n",
       "338  DISTRIBUTION OF REGIONAL TRAVELLERS IN THE PHI...   \n",
       "339                              January-December 2012   \n",
       "340  Source of Data:  Accommodation Establishments ...   \n",
       "341  Prepared by:  Tourism Research and Statistics ...   \n",
       "342                                As of 7 August 2013   \n",
       "\n",
       "                  province_or_city foreign_travelers overseas_filipino  \\\n",
       "0    NCR (National Capital Region)           1513402             20048   \n",
       "1                    Caloocan City                 -                 -   \n",
       "2                   Las Pinas City                 -                 -   \n",
       "3                      Makati City                 -                 -   \n",
       "4                     Malabon City                 -                 -   \n",
       "..                             ...               ...               ...   \n",
       "338                            NaN               NaN               NaN   \n",
       "339                            NaN               NaN               NaN   \n",
       "340                            NaN               NaN               NaN   \n",
       "341                            NaN               NaN               NaN   \n",
       "342                            NaN               NaN               NaN   \n",
       "\n",
       "    domestic_travelers total_2012  \n",
       "0               909212    2442662  \n",
       "1                    -          0  \n",
       "2                    -          0  \n",
       "3                    -          0  \n",
       "4                    -          0  \n",
       "..                 ...        ...  \n",
       "338                NaN        NaN  \n",
       "339                NaN        NaN  \n",
       "340                NaN        NaN  \n",
       "341                NaN        NaN  \n",
       "342                NaN        NaN  \n",
       "\n",
       "[343 rows x 6 columns]"
      ]
     },
     "execution_count": 4,
     "metadata": {},
     "output_type": "execute_result"
    }
   ],
   "source": [
    "dataset"
   ]
  },
  {
   "cell_type": "code",
   "execution_count": 17,
   "metadata": {},
   "outputs": [],
   "source": [
    "types_of_people = [\"Foreign Travelers\", \"Overseas Filipino\", \"Domestic Travelers\"]\n",
    "total_population = [0,0,0]\n",
    "condition = \"NCR (National Capital Region)\""
   ]
  },
  {
   "cell_type": "code",
   "execution_count": 22,
   "metadata": {},
   "outputs": [],
   "source": [
    "total_population[0] = int(dataset['foreign_travelers'].iloc[0])\n",
    "total_population[1] = int(dataset['overseas_filipino'].iloc[0])\n",
    "total_population[2] = int(dataset['domestic_travelers'].iloc[0])"
   ]
  },
  {
   "cell_type": "code",
   "execution_count": 23,
   "metadata": {},
   "outputs": [
    {
     "data": {
      "text/plain": [
       "[1513402, 20048, 909212]"
      ]
     },
     "execution_count": 23,
     "metadata": {},
     "output_type": "execute_result"
    }
   ],
   "source": [
    "total_population"
   ]
  },
  {
   "cell_type": "code",
   "execution_count": 25,
   "metadata": {},
   "outputs": [
    {
     "data": {
      "image/png": "[encoded data removed]",
      "text/plain": [
       "<Figure size 432x288 with 1 Axes>"
      ]
     },
     "metadata": {},
     "output_type": "display_data"
    }
   ],
   "source": [
    "# Creating explode data\n",
    "explode = (0.1, 0.0, 0.2, 0.3, 0.0, 0.0)\n",
    " \n",
    "# Creating color parameters\n",
    "colors = ( \"orange\", \"cyan\", \"brown\",\n",
    "          \"grey\", \"indigo\", \"beige\")\n",
    " \n",
    "# Wedge properties\n",
    "wp = { 'linewidth' : 1, 'edgecolor' : \"green\" }\n",
    " \n",
    "# Creating autocpt arguments\n",
    "def func(pct, allvalues):\n",
    "    absolute = int(pct / 100.*np.sum(allvalues))\n",
    "    return \"{:.1f}%\\n({:d} g)\".format(pct, absolute)\n",
    " \n",
    "# Creating plot\n",
    "fig, ax = plt.subplots(figsize =(10, 7))\n",
    "wedges, texts, autotexts = ax.pie(data,\n",
    "                                  autopct = lambda pct: func(pct, data),\n",
    "                                  explode = explode,\n",
    "                                  labels = cars,\n",
    "                                  shadow = True,\n",
    "                                  colors = colors,\n",
    "                                  startangle = 90,\n",
    "                                  wedgeprops = wp,\n",
    "                                  textprops = dict(color =\"magenta\"))\n",
    " \n",
    "# Adding legend\n",
    "ax.legend(wedges, cars,\n",
    "          title =\"Cars\",\n",
    "          loc =\"center left\",\n",
    "          bbox_to_anchor =(1, 0, 0.5, 1))\n",
    " \n",
    "plt.setp(autotexts, size = 8, weight =\"bold\")\n",
    "ax.set_title(\"Customizing pie chart\")\n",
    " \n",
    "# show plot\n",
    "plt.show()"
   ]
  },
  {
   "cell_type": "code",
   "execution_count": null,
   "metadata": {},
   "outputs": [],
   "source": []
  }
 ],
 "metadata": {
  "kernelspec": {
   "display_name": "Python 3",
   "language": "python",
   "name": "python3"
  },
  "language_info": {
   "codemirror_mode": {
    "name": "ipython",
    "version": 3
   },
   "file_extension": ".py",
   "mimetype": "text/x-python",
   "name": "python",
   "nbconvert_exporter": "python",
   "pygments_lexer": "ipython3",
   "version": "3.8.5"
  }
 },
 "nbformat": 4,
 "nbformat_minor": 4
}
